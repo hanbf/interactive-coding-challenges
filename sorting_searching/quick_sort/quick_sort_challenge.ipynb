{
 "cells": [
  {
   "cell_type": "markdown",
   "metadata": {},
   "source": [
    "This notebook was prepared by [Donne Martin](http://donnemartin.com). Source and license info is on [GitHub](https://github.com/donnemartin/interactive-coding-challenges)."
   ]
  },
  {
   "cell_type": "markdown",
   "metadata": {},
   "source": [
    "# Challenge Notebook"
   ]
  },
  {
   "cell_type": "markdown",
   "metadata": {},
   "source": [
    "## Problem: Implement quick sort.\n",
    "\n",
    "* [Constraints](#Constraints)\n",
    "* [Test Cases](#Test-Cases)\n",
    "* [Algorithm](#Algorithm)\n",
    "* [Code](#Code)\n",
    "* [Unit Test](#Unit-Test)\n",
    "* [Solution Notebook](#Solution-Notebook)"
   ]
  },
  {
   "cell_type": "markdown",
   "metadata": {},
   "source": [
    "## Constraints\n",
    "\n",
    "* Is a naive solution sufficient (ie not in-place)?\n",
    "    * Yes\n",
    "* Are duplicates allowed?\n",
    "    * Yes\n",
    "* Can we assume the input is valid?\n",
    "    * No\n",
    "* Can we assume this fits memory?\n",
    "    * Yes"
   ]
  },
  {
   "cell_type": "markdown",
   "metadata": {},
   "source": [
    "## Test Cases\n",
    "\n",
    "* None -> Exception\n",
    "* Empty input -> []\n",
    "* One element -> [element]\n",
    "* Two or more elements"
   ]
  },
  {
   "cell_type": "markdown",
   "metadata": {},
   "source": [
    "## Algorithm\n",
    "\n",
    "Refer to the [Solution Notebook](http://nbviewer.ipython.org/github/donnemartin/interactive-coding-challenges/blob/master/sorting_searching/quick_sort/quick_sort_solution.ipynb).  If you are stuck and need a hint, the solution notebook's algorithm discussion might be a good place to start."
   ]
  },
  {
   "cell_type": "markdown",
   "metadata": {},
   "source": [
    "## Code"
   ]
  },
  {
   "cell_type": "code",
   "execution_count": 1,
   "metadata": {
    "collapsed": true
   },
   "outputs": [],
   "source": [
    "class QuickSort(object):\n",
    "\n",
    "    def sort(self, data):\n",
    "        if data is None:\n",
    "            raise TypeError()\n",
    "                    \n",
    "        return self._sort(data, 0, len(data) - 1)\n",
    "    \n",
    "    def _swap(self, data, i, j):\n",
    "        tmp = data[i]\n",
    "        data[i] = data[j]\n",
    "        data[j] = tmp\n",
    "        \n",
    "    # partition that use only one for, choose pivot as data[low]\n",
    "    def _partition4(self, data, low, high):        \n",
    "        pivot = data[low]\n",
    "        firstlow = high\n",
    "        \n",
    "        # move all numbers that > pivot to firstlow ~ high\n",
    "        for i in range(high, low, -1):\n",
    "            if (data[i] > pivot):\n",
    "                self._swap(data, i, firstlow)\n",
    "                firstlow -= 1\n",
    "            \n",
    "        self._swap(data, low, firstlow)\n",
    "        \n",
    "        return firstlow\n",
    "        \n",
    "    # partition that use only one for, choose pivot as data[high]\n",
    "    def _partition3(self, data, low, high):\n",
    "        if low >= high:\n",
    "            return low\n",
    "        \n",
    "        pivot = data[high]\n",
    "        firsthigh = low\n",
    "        \n",
    "        # move all numbers that < pivot to low ~ firsthigh\n",
    "        for i in range(low, high):\n",
    "            if (data[i] < pivot):\n",
    "                self._swap(data, i, firsthigh)\n",
    "                firsthigh += 1\n",
    "            \n",
    "        self._swap(data, high, firsthigh)\n",
    "        \n",
    "        return firsthigh\n",
    "    \n",
    "    # partition that choose pivot as data[high]\n",
    "    def _partition2(self, data, low, high):\n",
    "        if low >= high:\n",
    "            return low\n",
    "        \n",
    "        pivot = data[high]\n",
    "        i = low\n",
    "        j = high - 1\n",
    "        \n",
    "        while (1):\n",
    "            while (i < high):\n",
    "                if (data[i] > pivot):\n",
    "                    break;\n",
    "                \n",
    "                i += 1\n",
    "            \n",
    "            while (j > low):\n",
    "                if (data[j] < pivot):\n",
    "                    break;\n",
    "                \n",
    "                j -= 1\n",
    "            \n",
    "            if (i >= j):\n",
    "                break;\n",
    "            \n",
    "            self._swap(data, i, j)\n",
    "        \n",
    "        self._swap(data, high, i)\n",
    "        \n",
    "        return i\n",
    "    \n",
    "    # partition that choose pivot as data[low]\n",
    "    def _partition(self, data, low, high):\n",
    "        if low >= high:\n",
    "            return low\n",
    "        \n",
    "        pivot = data[low]\n",
    "        i = low + 1\n",
    "        j = high\n",
    "\n",
    "        while (1):\n",
    "            # search from i to j, find a number > pivot\n",
    "            while (i < high):\n",
    "                if (data[i] > pivot):\n",
    "                    break\n",
    "                i += 1\n",
    "            \n",
    "            # search from j to i, find a number < pivot\n",
    "            while (j > low):\n",
    "                if (data[j] < pivot):\n",
    "                    break\n",
    "                j -= 1\n",
    "            \n",
    "            if i >= j:\n",
    "                # low + 1 to i-1 are numbers that < pivot\n",
    "                # j + 1 to high are numbers that >= pivot\n",
    "                break\n",
    "            \n",
    "            self._swap(data, i, j)\n",
    "        \n",
    "        # data[j] is a number that < pivot, data[j + 1] is a number that > pivot, \n",
    "        # swap data[j] and pivot so that [low, j] are numbers that < pivot, including pivot.\n",
    "        self._swap(data, low, j)\n",
    "        \n",
    "        return j\n",
    "    \n",
    "    def _sort(self, data, low, high):\n",
    "        if low >= high:\n",
    "            return data\n",
    "        \n",
    "        p = self._partition4(data, low, high)\n",
    "        \n",
    "        self._sort(data, low, p-1)\n",
    "        self._sort(data, p+1, high)\n",
    "        \n",
    "        return data"
   ]
  },
  {
   "cell_type": "markdown",
   "metadata": {},
   "source": [
    "## Unit Test\n",
    "\n",
    "\n",
    "\n",
    "**The following unit test is expected to fail until you solve the challenge.**"
   ]
  },
  {
   "cell_type": "code",
   "execution_count": 2,
   "metadata": {},
   "outputs": [
    {
     "name": "stdout",
     "output_type": "stream",
     "text": [
      "None input\n",
      "Empty input\n",
      "One element\n",
      "Two or more elements\n",
      "Success: test_quick_sort\n",
      "\n"
     ]
    }
   ],
   "source": [
    "# %load test_quick_sort.py\n",
    "from nose.tools import assert_equal, assert_raises\n",
    "\n",
    "class TestQuickSort(object):\n",
    "\n",
    "    def test_quick_sort(self):\n",
    "        quick_sort = QuickSort()\n",
    "\n",
    "        print('None input')\n",
    "        assert_raises(TypeError, quick_sort.sort, None)\n",
    "\n",
    "        print('Empty input')\n",
    "        assert_equal(quick_sort.sort([]), [])\n",
    "\n",
    "        print('One element')\n",
    "        assert_equal(quick_sort.sort([5]), [5])\n",
    "\n",
    "        print('Two or more elements')\n",
    "        data = [5, 1, 7, 2, 6, -3, 5, 7, -1]\n",
    "        assert_equal(quick_sort.sort(data), sorted(data))\n",
    "\n",
    "        print('Success: test_quick_sort\\n')\n",
    "\n",
    "\n",
    "def main():\n",
    "    test = TestQuickSort()\n",
    "    test.test_quick_sort()\n",
    "\n",
    "\n",
    "if __name__ == '__main__':\n",
    "    main()"
   ]
  },
  {
   "cell_type": "markdown",
   "metadata": {},
   "source": [
    "## Solution Notebook\n",
    "\n",
    "Review the [Solution Notebook](http://nbviewer.ipython.org/github/donnemartin/interactive-coding-challenges/blob/master/sorting_searching/quick_sort/quick_sort_solution.ipynb) for a discussion on algorithms and code solutions."
   ]
  }
 ],
 "metadata": {
  "kernelspec": {
   "display_name": "Python 2",
   "language": "python",
   "name": "python2"
  },
  "language_info": {
   "codemirror_mode": {
    "name": "ipython",
    "version": 2
   },
   "file_extension": ".py",
   "mimetype": "text/x-python",
   "name": "python",
   "nbconvert_exporter": "python",
   "pygments_lexer": "ipython2",
   "version": "2.7.13"
  }
 },
 "nbformat": 4,
 "nbformat_minor": 1
}
