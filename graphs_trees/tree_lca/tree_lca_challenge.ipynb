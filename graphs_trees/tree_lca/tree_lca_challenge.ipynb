{
 "cells": [
  {
   "cell_type": "markdown",
   "metadata": {},
   "source": [
    "This notebook was prepared by [Donne Martin](https://github.com/donnemartin). Source and license info is on [GitHub](https://github.com/donnemartin/interactive-coding-challenges)."
   ]
  },
  {
   "cell_type": "markdown",
   "metadata": {},
   "source": [
    "# Challenge Notebook"
   ]
  },
  {
   "cell_type": "markdown",
   "metadata": {},
   "source": [
    "## Problem: Find the lowest common ancestor in a binary tree.\n",
    "\n",
    "* [Constraints](#Constraints)\n",
    "* [Test Cases](#Test-Cases)\n",
    "* [Algorithm](#Algorithm)\n",
    "* [Code](#Code)\n",
    "* [Unit Test](#Unit-Test)\n",
    "* [Solution Notebook](#Solution-Notebook)"
   ]
  },
  {
   "cell_type": "markdown",
   "metadata": {},
   "source": [
    "## Constraints\n",
    "\n",
    "* Is this a binary search tree?\n",
    "    * No\n",
    "* Can we assume the two nodes are in the tree?\n",
    "    * No\n",
    "* Can we assume this fits memory?\n",
    "    * Yes"
   ]
  },
  {
   "cell_type": "markdown",
   "metadata": {},
   "source": [
    "## Test Cases\n",
    "\n",
    "<pre>\n",
    "          _10_\n",
    "        /      \\\n",
    "       5        9\n",
    "      / \\      / \\\n",
    "     12  3    18  20\n",
    "        / \\       /\n",
    "       1   8     40\n",
    "</pre>\n",
    "\n",
    "* 0, 5 -> None\n",
    "* 5, 0 -> None\n",
    "* 1, 8 -> 3\n",
    "* 12, 8 -> 5\n",
    "* 12, 40 -> 10\n",
    "* 9, 20 -> 9\n",
    "* 3, 5 -> 5"
   ]
  },
  {
   "cell_type": "markdown",
   "metadata": {},
   "source": [
    "## Algorithm\n",
    "\n",
    "Refer to the [Solution Notebook]().  If you are stuck and need a hint, the solution notebook's algorithm discussion might be a good place to start."
   ]
  },
  {
   "cell_type": "markdown",
   "metadata": {},
   "source": [
    "## Code"
   ]
  },
  {
   "cell_type": "code",
   "execution_count": 86,
   "metadata": {
    "collapsed": true
   },
   "outputs": [],
   "source": [
    "class Node(object):\n",
    "\n",
    "    def __init__(self, key, left=None, right=None):\n",
    "        self.key = key\n",
    "        self.left = left\n",
    "        self.right = right\n",
    "\n",
    "    def __repr__(self):\n",
    "        return str(self.key)"
   ]
  },
  {
   "cell_type": "code",
   "execution_count": 87,
   "metadata": {},
   "outputs": [],
   "source": [
    "class LCAResult(object):\n",
    "    def __init__(self, node, isAncestor = False):\n",
    "        self.node = node\n",
    "        self.isAncestor = isAncestor\n",
    "    \n",
    "class BinaryTree(object):\n",
    "    \n",
    "    def lca(self, root, node1, node2):\n",
    "        return self.lcaWithoutCheckNodeInTree(root, node1, node2)\n",
    "    \n",
    "    def lcaWithCheckNodeInTree(self, root, node1, node2):\n",
    "        if self._isNodeInTree(root, node1) and self._isNodeInTree(root, node2):\n",
    "            return self._lca(root, node1, node2)\n",
    "        \n",
    "        return None\n",
    "    \n",
    "    def lcaWithoutCheckNodeInTree(self, root, node1, node2):\n",
    "        result = self._lcaWithoutCheckNodeInTree(root, node1, node2)\n",
    "        if result is not None and result.isAncestor:\n",
    "            return result.node\n",
    "        \n",
    "        return None\n",
    "        \n",
    "    def _isNodeInTree(self, root, node):\n",
    "        if root is None:\n",
    "            return False\n",
    "        \n",
    "        if root != node:\n",
    "            return self._isNodeInTree(root.left, node) or self._isNodeInTree(root.right, node)\n",
    "        \n",
    "        return True\n",
    "    \n",
    "    def _lca(self, root, node1, node2):\n",
    "        if root is None:\n",
    "            return None\n",
    "\n",
    "        # since node1 and node2 are definitely in the tree, and we touched the most-bottom,\n",
    "        # so only 2 cases here: LCA is in the path searching down, or LCA is this very root,\n",
    "        # leave the judgement later(*)\n",
    "        if root is node1 or root is node2:\n",
    "            return root\n",
    "        \n",
    "        # we not touched the bottom yet, so continue searching down.\n",
    "        leftNode = self._lca(root.left, node1, node2)\n",
    "        rightNode = self._lca(root.right, node1, node2)\n",
    "        \n",
    "        # (*) continue, in this very root, left and right both returned nodes(of cause different nodes).\n",
    "        # this very root is the LCA\n",
    "        if leftNode is not None and rightNode is not None:\n",
    "            return root\n",
    "        \n",
    "        # only one of the search returned 1 node, this node is the LCA, the other node is the child of this\n",
    "        # returned node\n",
    "        \n",
    "        return leftNode if leftNode is not None else rightNode\n",
    "    \n",
    "    def _lcaWithoutCheckNodeInTree(self, root, node1, node2):\n",
    "        if root is None:\n",
    "            return LCAResult(None, isAncestor = False)\n",
    "        \n",
    "        if root is node1 and root is node2:\n",
    "            # since we don't pre-check if node is in the tree, so if we reached bottom, we have 3 situations:\n",
    "            # 1. one ancestor of this root is the LCA\n",
    "            # 2. this root is the LCA\n",
    "            # 3. the other node is not in the tree\n",
    "            # only when node1 == node2 == root, can we make sure the root is the LCA\n",
    "            return LCAResult(root, isAncestor = True)\n",
    "        \n",
    "        # we not touched the bottom yet, so continue searching down.\n",
    "        leftResult = self._lcaWithoutCheckNodeInTree(root.left, node1, node2)\n",
    "        rightResult = self._lcaWithoutCheckNodeInTree(root.right, node1, node2)\n",
    "        \n",
    "        # each result has 3 possible results:\n",
    "        # left: None, isAncestor True, isAncestor False\n",
    "        # right: None, isAncestor True, isAncestor False\n",
    "        \n",
    "        if leftResult.isAncestor:\n",
    "            return leftResult\n",
    "        \n",
    "        if rightResult.isAncestor:\n",
    "            return rightResult\n",
    "        \n",
    "        # only when left and right result both have node, can we make sure that this root\n",
    "        # is an ancestor\n",
    "        if leftResult.node is not None and rightResult.node is not None:\n",
    "            return LCAResult(root, isAncestor = True)\n",
    "        \n",
    "        # both left and right touched bottom\n",
    "        if root is node1 or root is node2:\n",
    "            # only when root is one of the node and we sure find another node in the child trees,\n",
    "            # can we make sure that this node is an ancestor\n",
    "            isAncestor = leftResult.node is not None or rightResult.node is not None\n",
    "            return LCAResult(root, isAncestor)\n",
    "        \n",
    "        return LCAResult(\n",
    "            leftResult.node if leftResult.node is not None else rightResult.node,\n",
    "            isAncestor = False\n",
    "        )\n",
    "                "
   ]
  },
  {
   "cell_type": "markdown",
   "metadata": {},
   "source": [
    "## Unit Test"
   ]
  },
  {
   "cell_type": "markdown",
   "metadata": {},
   "source": [
    "**The following unit test is expected to fail until you solve the challenge.**"
   ]
  },
  {
   "cell_type": "code",
   "execution_count": 88,
   "metadata": {},
   "outputs": [
    {
     "name": "stdout",
     "output_type": "stream",
     "text": [
      "Success: test_lca\n"
     ]
    }
   ],
   "source": [
    "# %load test_lca.py\n",
    "from nose.tools import assert_equal\n",
    "\n",
    "\n",
    "class TestLowestCommonAncestor(object):\n",
    "\n",
    "    def test_lca(self):\n",
    "        node10 = Node(10)\n",
    "        node5 = Node(5)\n",
    "        node12 = Node(12)\n",
    "        node3 = Node(3)\n",
    "        node1 = Node(1)\n",
    "        node8 = Node(8)\n",
    "        node9 = Node(9)\n",
    "        node18 = Node(18)\n",
    "        node20 = Node(20)\n",
    "        node40 = Node(40)\n",
    "        node3.left = node1\n",
    "        node3.right = node8\n",
    "        node5.left = node12\n",
    "        node5.right = node3\n",
    "        node20.left = node40\n",
    "        node9.left = node18\n",
    "        node9.right = node20\n",
    "        node10.left = node5\n",
    "        node10.right = node9\n",
    "        root = node10\n",
    "        node0 = Node(0)\n",
    "        binary_tree = BinaryTree()\n",
    "        assert_equal(binary_tree.lca(root, node0, node5), None)\n",
    "        assert_equal(binary_tree.lca(root, node5, node0), None)\n",
    "        assert_equal(binary_tree.lca(root, node1, node8), node3)\n",
    "        assert_equal(binary_tree.lca(root, node12, node8), node5)\n",
    "        assert_equal(binary_tree.lca(root, node12, node40), node10)\n",
    "        assert_equal(binary_tree.lca(root, node9, node20), node9)\n",
    "        assert_equal(binary_tree.lca(root, node3, node5), node5)\n",
    "        print('Success: test_lca')\n",
    "\n",
    "\n",
    "def main():\n",
    "    test = TestLowestCommonAncestor()\n",
    "    test.test_lca()\n",
    "\n",
    "\n",
    "if __name__ == '__main__':\n",
    "    main()"
   ]
  },
  {
   "cell_type": "markdown",
   "metadata": {},
   "source": [
    "## Solution Notebook\n",
    "\n",
    "Review the [Solution Notebook]() for a discussion on algorithms and code solutions."
   ]
  }
 ],
 "metadata": {
  "kernelspec": {
   "display_name": "Python 2",
   "language": "python",
   "name": "python2"
  },
  "language_info": {
   "codemirror_mode": {
    "name": "ipython",
    "version": 2
   },
   "file_extension": ".py",
   "mimetype": "text/x-python",
   "name": "python",
   "nbconvert_exporter": "python",
   "pygments_lexer": "ipython2",
   "version": "2.7.13"
  }
 },
 "nbformat": 4,
 "nbformat_minor": 1
}
