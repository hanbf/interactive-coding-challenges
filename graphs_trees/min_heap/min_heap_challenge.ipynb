{
 "cells": [
  {
   "cell_type": "markdown",
   "metadata": {},
   "source": [
    "This notebook was prepared by [Donne Martin](https://github.com/donnemartin). Source and license info is on [GitHub](https://github.com/donnemartin/interactive-coding-challenges)."
   ]
  },
  {
   "cell_type": "markdown",
   "metadata": {},
   "source": [
    "# Challenge Notebook"
   ]
  },
  {
   "cell_type": "markdown",
   "metadata": {},
   "source": [
    "## Problem: Implement a min heap with extract_min and insert methods.\n",
    "\n",
    "* [Constraints](#Constraints)\n",
    "* [Test Cases](#Test-Cases)\n",
    "* [Algorithm](#Algorithm)\n",
    "* [Code](#Code)\n",
    "* [Unit Test](#Unit-Test)\n",
    "* [Solution Notebook](#Solution-Notebook)"
   ]
  },
  {
   "cell_type": "markdown",
   "metadata": {},
   "source": [
    "## Constraints\n",
    "\n",
    "* Can we assume the inputs are ints?\n",
    "    * Yes\n",
    "* Can we assume this fits memory?\n",
    "    * Yes"
   ]
  },
  {
   "cell_type": "markdown",
   "metadata": {},
   "source": [
    "## Test Cases\n",
    "\n",
    "* Extract min of an empty tree\n",
    "* Extract min general case\n",
    "* Insert into an empty tree\n",
    "* Insert general case (left and right insert)\n",
    "\n",
    "<pre>\n",
    "          _5_\n",
    "        /     \\\n",
    "       20     15\n",
    "      / \\    /  \\\n",
    "     22  40 25\n",
    "     \n",
    "extract_min(): 5\n",
    "\n",
    "          _15_\n",
    "        /      \\\n",
    "       20      25\n",
    "      / \\     /  \\\n",
    "     22  40 \n",
    "\n",
    "insert(2):\n",
    "\n",
    "          _2_\n",
    "        /     \\\n",
    "       20      5\n",
    "      / \\     / \\\n",
    "     22  40  25  15\n",
    "</pre>"
   ]
  },
  {
   "cell_type": "markdown",
   "metadata": {},
   "source": [
    "## Algorithm\n",
    "\n",
    "Refer to the [Solution Notebook](http://nbviewer.ipython.org/github/donnemartin/interactive-coding-challenges/blob/master/graphs_trees/min_heap/min_heap_solution.ipynb).  If you are stuck and need a hint, the solution notebook's algorithm discussion might be a good place to start."
   ]
  },
  {
   "cell_type": "markdown",
   "metadata": {},
   "source": [
    "## Code"
   ]
  },
  {
   "cell_type": "code",
   "execution_count": 103,
   "metadata": {},
   "outputs": [],
   "source": [
    "class MinHeap(object):\n",
    "\n",
    "    def __init__(self):\n",
    "        # self.list being a array representation of a complete binary tree\n",
    "        self.list = []\n",
    "        pass\n",
    "    \n",
    "    def _is_empty(self):\n",
    "        return len(self.list) == 0\n",
    "\n",
    "    def extract_min(self, isKeepInTail = False):\n",
    "        if self._is_empty():\n",
    "            return None\n",
    "        \n",
    "        theMin = None\n",
    "        \n",
    "        if isKeepInTail:\n",
    "            theMin = self.list[0]\n",
    "            \n",
    "            self._swap(0, self._realTail - 1)\n",
    "\n",
    "            if self._is_empty():\n",
    "                return theMin\n",
    "\n",
    "            self._realTail -= 1\n",
    "            self._sink_down(0, lenList = self._realTail)\n",
    "        else:            \n",
    "            theMin = self.list[0]\n",
    "\n",
    "            tail = self.list.pop()\n",
    "\n",
    "            if self._is_empty():\n",
    "                return tail\n",
    "\n",
    "            # put last leaf to root\n",
    "            self.list[0] = tail\n",
    "\n",
    "            self._sink_down(0)\n",
    "        \n",
    "        return theMin\n",
    "\n",
    "    def peek_min(self):\n",
    "        if self._is_empty():\n",
    "            return None\n",
    "        \n",
    "        return self.list[0]\n",
    "\n",
    "    def insert(self, data):\n",
    "        self.list.append(data)\n",
    "        self._bubble_up(len(self.list) - 1)\n",
    "        pass\n",
    "    \n",
    "    def _swap(self, i, j):\n",
    "        tmp = self.list[i]\n",
    "        self.list[i] = self.list[j]\n",
    "        self.list[j] = tmp\n",
    "\n",
    "    def _bubble_up(self, index):\n",
    "        if index == 0:\n",
    "            return\n",
    "        \n",
    "        parentIndex = index / 2\n",
    "        while 1:\n",
    "            if self.list[index] < self.list[parentIndex]:\n",
    "                self._swap(index, parentIndex)\n",
    "                index = parentIndex\n",
    "                parentIndex = parentIndex / 2\n",
    "                if parentIndex == index:\n",
    "                    break\n",
    "            else:\n",
    "                break\n",
    "        pass\n",
    "    \n",
    "    def _sink_down(self, index, lenList = None):\n",
    "        if lenList is None:\n",
    "            lenList = len(self.list)\n",
    "            \n",
    "        if (index << 1) + 1 >= lenList:\n",
    "            return\n",
    "        while 1:\n",
    "            # swap with the smallest children\n",
    "            pos = index\n",
    "            # right child\n",
    "            childIndex = (index + 1) << 1\n",
    "            if childIndex < lenList and self.list[childIndex] < self.list[pos]:\n",
    "                pos = childIndex\n",
    "\n",
    "            childIndex -= 1\n",
    "            if childIndex < lenList and self.list[childIndex] < self.list[pos]:\n",
    "                pos = childIndex\n",
    "\n",
    "            if pos != index:\n",
    "                self._swap(index, pos)\n",
    "                index = pos\n",
    "            else:\n",
    "                break\n",
    "    def _set_list(self, l):\n",
    "        self.list = l\n",
    "        self._realTail = len(l)\n",
    "        \n",
    "    def _heap_sort(self):\n",
    "        # first org self.list to heap\n",
    "        # sink from mid list(the lowest 2 level of the tree), to root\n",
    "        if self._is_empty():\n",
    "            return self.list\n",
    "        \n",
    "        midRoot = (len(self.list) >> 1) - 1\n",
    "        for i in range(midRoot, -1, -1):\n",
    "            self._sink_down(i)\n",
    "        \n",
    "        for i in range(0, len(self.list)):\n",
    "            self.extract_min(isKeepInTail = True)\n",
    "\n",
    "        return self.list"
   ]
  },
  {
   "cell_type": "raw",
   "metadata": {},
   "source": []
  },
  {
   "cell_type": "markdown",
   "metadata": {},
   "source": [
    "## Unit Test"
   ]
  },
  {
   "cell_type": "markdown",
   "metadata": {},
   "source": [
    "**The following unit test is expected to fail until you solve the challenge.**"
   ]
  },
  {
   "cell_type": "code",
   "execution_count": 104,
   "metadata": {},
   "outputs": [
    {
     "name": "stdout",
     "output_type": "stream",
     "text": [
      "Success: test_min_heap\n",
      "additional test: heap sort\n",
      "Success: heap sort\n"
     ]
    }
   ],
   "source": [
    "# %load test_min_heap.py\n",
    "from nose.tools import assert_equal\n",
    "\n",
    "\n",
    "class TestMinHeap(object):\n",
    "\n",
    "    def test_min_heap(self):\n",
    "        heap = MinHeap()\n",
    "        assert_equal(heap.peek_min(), None)\n",
    "        assert_equal(heap.extract_min(), None)\n",
    "        heap.insert(20)\n",
    "        assert_equal(heap.peek_min(), 20)\n",
    "        heap.insert(5)\n",
    "        assert_equal(heap.peek_min(), 5)\n",
    "        heap.insert(15)\n",
    "        heap.insert(22)\n",
    "        heap.insert(40)\n",
    "        heap.insert(5)\n",
    "        assert_equal(heap.peek_min(), 5)\n",
    "        heap.insert(3)\n",
    "        assert_equal(heap.peek_min(), 3)\n",
    "        assert_equal(heap.extract_min(), 3)\n",
    "        assert_equal(heap.peek_min(), 5)\n",
    "        print('Success: test_min_heap')\n",
    "        print('additional test: heap sort')\n",
    "        \n",
    "        heap = MinHeap()\n",
    "        \n",
    "        list = [5, 1, 7, 2, 6, -3, 5, 7, -1]\n",
    "        heap._set_list(list[:])\n",
    "        assert_equal(heap._heap_sort(), sorted(list, reverse = True))\n",
    "\n",
    "        list = [5, 1, 7, 2, 6, -3, 5, 7, -1, -5]\n",
    "        heap._set_list(list[:])\n",
    "        assert_equal(heap._heap_sort(), sorted(list, reverse = True))\n",
    "        \n",
    "        print('Success: heap sort')\n",
    "\n",
    "        \n",
    "def main():\n",
    "    test = TestMinHeap()\n",
    "    test.test_min_heap()\n",
    "\n",
    "    \n",
    "if __name__ == '__main__':\n",
    "    main()"
   ]
  },
  {
   "cell_type": "markdown",
   "metadata": {},
   "source": [
    "## Solution Notebook\n",
    "\n",
    "Review the [Solution Notebook](http://nbviewer.ipython.org/github/donnemartin/interactive-coding-challenges/blob/master/graphs_trees/min_heap/min_heap_solution.ipynb) for a discussion on algorithms and code solutions."
   ]
  }
 ],
 "metadata": {
  "kernelspec": {
   "display_name": "Python 2",
   "language": "python",
   "name": "python2"
  },
  "language_info": {
   "codemirror_mode": {
    "name": "ipython",
    "version": 2
   },
   "file_extension": ".py",
   "mimetype": "text/x-python",
   "name": "python",
   "nbconvert_exporter": "python",
   "pygments_lexer": "ipython2",
   "version": "2.7.13"
  }
 },
 "nbformat": 4,
 "nbformat_minor": 1
}
